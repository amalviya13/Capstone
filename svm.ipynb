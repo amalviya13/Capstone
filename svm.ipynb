{
 "cells": [
  {
   "cell_type": "code",
   "execution_count": 9,
   "metadata": {},
   "outputs": [],
   "source": [
    "import pandas as pd\n",
    "import numpy as np\n",
    "import matplotlib.pyplot as plt\n",
    "from sklearn.preprocessing import OneHotEncoder, StandardScaler\n",
    "from sklearn.model_selection import train_test_split, GridSearchCV\n",
    "from sklearn.svm import SVR\n",
    "from sklearn.metrics import mean_squared_error, r2_score\n",
    "import seaborn as sns"
   ]
  },
  {
   "cell_type": "code",
   "execution_count": 2,
   "metadata": {},
   "outputs": [
    {
     "name": "stderr",
     "output_type": "stream",
     "text": [
      "c:\\Users\\Acer\\AppData\\Local\\Programs\\Python\\Python39\\lib\\site-packages\\sklearn\\preprocessing\\_encoders.py:828: FutureWarning: `sparse` was renamed to `sparse_output` in version 1.2 and will be removed in 1.4. `sparse_output` is ignored unless you leave `sparse` to its default value.\n",
      "  warnings.warn(\n"
     ]
    }
   ],
   "source": [
    "# Load the data and drop duplicates\n",
    "data =  pd.read_csv('assets/Comprehensive IMDb Data.csv')\n",
    "data = data.drop_duplicates(subset=['title']).dropna()\n",
    "data = data.drop(['knownForTitles', 'month', 'day', 'primaryName', 'titleId', 'title', 'region', 'released', 'year', 'director', 'writer', 'star', 'country', 'gross', 'company', 'category', 'nconst'], axis=1).reset_index()\n",
    "\n",
    "# Split into features and target\n",
    "X = data.drop(['score'], axis=1)\n",
    "y = data['score']\n",
    "\n",
    "# Encode categorical variables using one-hot encoding\n",
    "cat_cols = ['genre','rating']\n",
    "enc = OneHotEncoder(sparse=False, handle_unknown='ignore')\n",
    "X_cat = enc.fit_transform(X[cat_cols])\n",
    "X_cat_names = enc.get_feature_names_out(cat_cols)\n",
    "X_cat_df = pd.DataFrame(X_cat, columns=X_cat_names)\n",
    "\n",
    "\n",
    "\n",
    "# Plot the actual vs. predicted scores\n",
    "# plt.scatter(y_test, y_pred)\n",
    "# plt.xlabel('Actual Score')\n",
    "# plt.ylabel('Predicted Score')\n",
    "# plt.title('Actual vs. Predicted Scores')\n",
    "# plt.show()"
   ]
  },
  {
   "cell_type": "code",
   "execution_count": 4,
   "metadata": {},
   "outputs": [],
   "source": [
    "# Combine one-hot encoded features with numeric features\n",
    "num_cols = ['budget','runtime']\n",
    "X_num = X[num_cols].fillna(0)\n",
    "X_all = pd.concat([X_num, X_cat_df], axis=1)\n",
    "\n",
    "# Normalize the numeric features\n",
    "scaler = StandardScaler()\n",
    "X_all[num_cols] = scaler.fit_transform(X_all[num_cols])\n",
    "\n",
    "# Split the data into training and testing sets\n",
    "X_train, X_test, y_train, y_test = train_test_split(X_all, y, test_size=0.2, random_state=42)\n",
    "kernels = ['linear', 'poly', 'rbf', 'sigmoid']\n",
    "# Set up hyperparameter search\n",
    "param_grid = {\n",
    "        'kernel': kernels,\n",
    "        'C': [0.1, 1, 10, 100],\n",
    "        'epsilon': [0.01, 0.1, 1],\n",
    "        'degree': [2, 3, 4] if 'poly' in kernels  else [2, 3],\n",
    "        'coef0': [0.0, 1.0, 2.0] if 'poly' in kernels  or 'sigmoid' in kernels  else [0.0],\n",
    "        'shrinking': [True, False]\n",
    "    }\n",
    "# perform grid search\n"
   ]
  },
  {
   "cell_type": "code",
   "execution_count": 5,
   "metadata": {},
   "outputs": [
    {
     "name": "stdout",
     "output_type": "stream",
     "text": [
      "Fitting 5 folds for each of 864 candidates, totalling 4320 fits\n",
      "Best estimator parameters: {'C': 0.1, 'coef0': 2.0, 'degree': 2, 'epsilon': 1, 'kernel': 'poly', 'shrinking': True}\n",
      "Mean Squared Error (MSE): 0.69321948612777\n",
      "R-squared (R2): 0.26273462871117814\n"
     ]
    }
   ],
   "source": [
    "# perform grid search\n",
    "svm_model = SVR()\n",
    "grid_search = GridSearchCV(svm_model, param_grid, scoring='neg_mean_squared_error', cv=5, n_jobs=-1, verbose=1)\n",
    "\n",
    "# Train a SVM  hyperparameter tuning\n",
    "grid_search.fit(X_train, y_train)\n",
    "best_params = grid_search.best_estimator_\n",
    "\n",
    "\n",
    "# Make predictions on the test set\n",
    "y_pred = grid_search.predict(X_test)\n",
    "\n",
    "# Calculate evaluation metrics\n",
    "mse = mean_squared_error(y_test, y_pred)\n",
    "r2 = r2_score(y_test, y_pred)\n",
    "print(\"Best estimator parameters:\", grid_search.best_params_)\n",
    "print(\"Mean Squared Error (MSE):\", mse)\n",
    "print(\"R-squared (R2):\", r2)"
   ]
  },
  {
   "attachments": {},
   "cell_type": "markdown",
   "metadata": {},
   "source": [
    "Fitting 5 folds for each of 864 candidates, totalling 4320 fits\n",
    "\n",
    "Best estimator parameters: {'C': 0.1, 'coef0': 2.0, 'degree': 2, 'epsilon': 1, 'kernel': 'poly', 'shrinking': True}\n",
    "\n",
    "Mean Squared Error (MSE): 0.69321948612777\n",
    "\n",
    "R-squared (R2): 0.26273462871117814"
   ]
  },
  {
   "cell_type": "code",
   "execution_count": 6,
   "metadata": {},
   "outputs": [
    {
     "name": "stdout",
     "output_type": "stream",
     "text": [
      "Final SVR model parameters: {'C': 0.1, 'cache_size': 200, 'coef0': 2.0, 'degree': 2, 'epsilon': 1, 'gamma': 'scale', 'kernel': 'poly', 'max_iter': -1, 'shrinking': True, 'tol': 0.001, 'verbose': False}\n",
      "Mean Squared Error (MSE): 0.69321948612777\n",
      "R-squared (R2): 0.26273462871117814\n"
     ]
    }
   ],
   "source": [
    "# Create the final SVR model with the best parameters\n",
    "final_svr = SVR(C= 0.1, coef0= 2.0, degree= 2, epsilon= 1, kernel= 'poly', shrinking= True)\n",
    "# Fit the final SVR model to the training data\n",
    "final_svr.fit(X_train, y_train)\n",
    "\n",
    "# Make predictions on the test set\n",
    "y_pred = final_svr.predict(X_test)\n",
    "\n",
    "# Evaluate the performance of the final SVR model\n",
    "mse = mean_squared_error(y_test, y_pred)\n",
    "r2 = r2_score(y_test, y_pred)\n",
    "\n",
    "print(\"Final SVR model parameters:\", final_svr.get_params())\n",
    "print(\"Mean Squared Error (MSE):\", mse)\n",
    "print(\"R-squared (R2):\", r2)"
   ]
  },
  {
   "cell_type": "code",
   "execution_count": 7,
   "metadata": {},
   "outputs": [
    {
     "data": {
      "image/png": "[encoded data removed]",
      "text/plain": [
       "<Figure size 432x288 with 1 Axes>"
      ]
     },
     "metadata": {
      "needs_background": "light"
     },
     "output_type": "display_data"
    }
   ],
   "source": [
    "# Plot the actual vs. predicted scores\n",
    "plt.scatter(y_test, y_pred)\n",
    "plt.xlabel('Actual Score')\n",
    "plt.ylabel('Predicted Score')\n",
    "plt.title('Actual vs. Predicted Scores')\n",
    "plt.show()"
   ]
  },
  {
   "cell_type": "code",
   "execution_count": 10,
   "metadata": {},
   "outputs": [
    {
     "name": "stderr",
     "output_type": "stream",
     "text": [
      "C:\\Users\\Acer\\AppData\\Local\\Temp/ipykernel_12608/2137200520.py:2: UserWarning: \n",
      "\n",
      "`distplot` is a deprecated function and will be removed in seaborn v0.14.0.\n",
      "\n",
      "Please adapt your code to use either `displot` (a figure-level function with\n",
      "similar flexibility) or `kdeplot` (an axes-level function for kernel density plots).\n",
      "\n",
      "For a guide to updating your code to use the new functions, please see\n",
      "https://gist.github.com/mwaskom/de44147ed2974457ad6372750bbe5751\n",
      "\n",
      "  ax=sns.distplot(y, hist=False, color=\"r\", label=\"Actual\")\n",
      "C:\\Users\\Acer\\AppData\\Local\\Temp/ipykernel_12608/2137200520.py:3: UserWarning: \n",
      "\n",
      "`distplot` is a deprecated function and will be removed in seaborn v0.14.0.\n",
      "\n",
      "Please adapt your code to use either `displot` (a figure-level function with\n",
      "similar flexibility) or `kdeplot` (an axes-level function for kernel density plots).\n",
      "\n",
      "For a guide to updating your code to use the new functions, please see\n",
      "https://gist.github.com/mwaskom/de44147ed2974457ad6372750bbe5751\n",
      "\n",
      "  sns.distplot(y_pred,hist=False, color=\"b\", label=\"Fitted\",ax=ax)\n"
     ]
    },
    {
     "data": {
      "image/png": "[encoded data removed]",
      "text/plain": [
       "<Figure size 432x288 with 1 Axes>"
      ]
     },
     "metadata": {
      "needs_background": "light"
     },
     "output_type": "display_data"
    }
   ],
   "source": [
    "# Plot the distribution of actual and predicted scores\n",
    "ax=sns.distplot(y, hist=False, color=\"r\", label=\"Actual\")\n",
    "sns.distplot(y_pred,hist=False, color=\"b\", label=\"Fitted\",ax=ax)\n",
    "plt.show()"
   ]
  }
 ],
 "metadata": {
  "kernelspec": {
   "display_name": "Python 3",
   "language": "python",
   "name": "python3"
  },
  "language_info": {
   "codemirror_mode": {
    "name": "ipython",
    "version": 3
   },
   "file_extension": ".py",
   "mimetype": "text/x-python",
   "name": "python",
   "nbconvert_exporter": "python",
   "pygments_lexer": "ipython3",
   "version": "3.9.7"
  },
  "orig_nbformat": 4
 },
 "nbformat": 4,
 "nbformat_minor": 2
}
