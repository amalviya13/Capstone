{
 "cells": [
  {
   "cell_type": "code",
   "execution_count": 1,
   "id": "supreme-future",
   "metadata": {},
   "outputs": [],
   "source": [
    "import pandas as pd\n",
    "import seaborn as sns\n",
    "\n",
    "import numpy as np\n",
    "import matplotlib.pyplot as plt \n",
    "from sklearn import preprocessing\n",
    "from sklearn.cluster import KMeans\n"
   ]
  },
  {
   "cell_type": "code",
   "execution_count": 2,
   "id": "framed-fraud",
   "metadata": {},
   "outputs": [
    {
     "name": "stdout",
     "output_type": "stream",
     "text": [
      "Index(['Unnamed: 0', 'title', 'rating', 'genre', 'score', 'star', 'budget',\n",
      "       'runtime', 'star_net_worth', 'movie_star_rating'],\n",
      "      dtype='object')\n"
     ]
    }
   ],
   "source": [
    "movies_df= pd.read_csv(\"final_dataset.csv\")\n",
    "print(movies_df.columns)\n",
    "X = movies_df.drop(['Unnamed: 0','score', 'star', 'star_net_worth', 'title'], axis=1)\n",
    "y = movies_df['score']\n",
    "\n",
    "ratings = [\n",
    "    (X['rating'] == 'R'),\n",
    "    (X['rating'] == 'PG-13'),\n",
    "    (X['rating'] == 'PG'),\n",
    "    (X['rating'] == 'G'),\n",
    "    (X['rating'] == 'Not Rated'),\n",
    "    (X['rating'] == 'Unrated'),\n",
    "    (X['rating'] == 'NC-17'),\n",
    "    (X['rating'] == 'TV-MA'),\n",
    "    (X['rating'] == 'Approved'),\n",
    "    (X['rating'] == 'X'),\n",
    "    ]\n",
    "\n",
    "values = ['1', '2', '3', '4', '5', '6', '7', '8', '9', '10']\n",
    "\n",
    "X['ratingId'] = np.select(ratings, values)\n",
    "\n",
    "\n",
    "genres = [\n",
    "    (X['genre'] == 'Comedy'),\n",
    "    (X['genre'] == 'Action'),\n",
    "    (X['genre'] == 'Drama'),\n",
    "    (X['genre'] == 'Crime'),\n",
    "    (X['genre'] == 'Adventure'),\n",
    "    (X['genre'] == 'Biography'),\n",
    "    (X['genre'] == 'Animation'),\n",
    "    (X['genre'] == 'Horror'),\n",
    "    (X['genre'] == 'Fantasy'),\n",
    "    (X['genre'] == 'Mystery'),\n",
    "    (X['genre'] == 'Sci-Fi'),\n",
    "    (X['genre'] == 'Romance'),\n",
    "    (X['genre'] == 'Thriller'),\n",
    "    (X['genre'] == 'Family'),\n",
    "    (X['genre'] == 'Western'),\n",
    "    ]\n",
    "\n",
    "values = ['1', '2', '3', '4', '5', '6', '7', '8', '9', '10', '11', '12', '13', '14', '15']\n",
    "\n",
    "X['genreId'] = np.select(genres, values)\n",
    "\n",
    "celebrity_ratings = [\n",
    "    (X['movie_star_rating'] == 'A'),\n",
    "    (X['movie_star_rating'] == 'B'),\n",
    "    (X['movie_star_rating'] == 'C'),\n",
    "    (X['movie_star_rating'] == 'D')\n",
    "]\n",
    "\n",
    "values = ['4','3','2','1']\n",
    "X['movieStarId'] = np.select(celebrity_ratings, values)\n",
    "\n",
    "X = X.drop(['rating', 'genre', 'movie_star_rating'], axis=1)\n",
    "\n",
    "\n",
    "    "
   ]
  },
  {
   "cell_type": "code",
   "execution_count": 3,
   "id": "massive-halloween",
   "metadata": {},
   "outputs": [],
   "source": [
    "from sklearn.model_selection import train_test_split\n",
    "X_train, X_test, y_train, y_test = train_test_split(X, y, test_size=0.3, random_state=0)"
   ]
  },
  {
   "cell_type": "code",
   "execution_count": 4,
   "id": "representative-assistant",
   "metadata": {},
   "outputs": [
    {
     "data": {
      "text/plain": [
       "RandomForestRegressor(n_estimators=1000, random_state=42)"
      ]
     },
     "execution_count": 4,
     "metadata": {},
     "output_type": "execute_result"
    }
   ],
   "source": [
    "from sklearn.ensemble import RandomForestRegressor\n",
    "regressor = RandomForestRegressor(n_estimators = 1000, random_state = 42)\n",
    "regressor.fit(X_train, y_train)"
   ]
  },
  {
   "cell_type": "code",
   "execution_count": 5,
   "id": "handled-joint",
   "metadata": {},
   "outputs": [
    {
     "name": "stdout",
     "output_type": "stream",
     "text": [
      "[5.85490714 4.7210506  6.86064167 ... 6.37915    4.4129     6.599     ]\n"
     ]
    }
   ],
   "source": [
    "prediction_df = pd.DataFrame(columns=['budget', 'runtime', 'ratingId', 'genreId', 'movieStarId'])\n",
    "prediction_df.loc[0] = ['111000000','108','3', '7', '3']\n",
    "\n",
    "y_pred = regressor.predict(X_test)\n",
    "print(y_pred)"
   ]
  },
  {
   "cell_type": "code",
   "execution_count": 9,
   "id": "lined-timing",
   "metadata": {},
   "outputs": [
    {
     "name": "stdout",
     "output_type": "stream",
     "text": [
      "Mean Absolute Error: 0.66 degrees.\n",
      "Accuracy: 88.75 %.\n"
     ]
    }
   ],
   "source": [
    "df=pd.DataFrame({'Actual':y_test, 'Predicted':y_pred})\n",
    "df\n",
    "# Calculate the absolute errors\n",
    "errors = abs(y_pred - y_test)\n",
    "# Print out the mean absolute error (mae)\n",
    "print('Mean Absolute Error:', round(np.mean(errors), 2), 'degrees.')\n",
    "\n",
    "# Calculate mean absolute percentage error (MAPE)\n",
    "mape = 100 * (errors / y_test)\n",
    "# Calculate and display accuracy\n",
    "accuracy = 100 - np.mean(mape)\n",
    "print('Accuracy:', round(accuracy, 2), '%.')\n"
   ]
  },
  {
   "cell_type": "code",
   "execution_count": 12,
   "id": "fluid-bailey",
   "metadata": {},
   "outputs": [
    {
     "data": {
      "image/png": "[encoded data removed]",
      "text/plain": [
       "<Figure size 360x504 with 1 Axes>"
      ]
     },
     "metadata": {
      "needs_background": "light"
     },
     "output_type": "display_data"
    }
   ],
   "source": [
    "import seaborn as sns\n",
    "plt.figure(figsize=(5, 7))\n",
    "\n",
    "\n",
    "ax = sns.distplot(y, hist=False, color=\"r\", label=\"Actual Score\")\n",
    "sns.distplot(y_pred, hist=False, color=\"b\", label=\"Predicted Scores\" , ax=ax)\n",
    "\n",
    "\n",
    "plt.title('Actual vs Fitted Values for Score For Random Forest Model')\n",
    "\n",
    "plt.legend()\n",
    "\n",
    "plt.show()\n",
    "plt.close()"
   ]
  },
  {
   "cell_type": "code",
   "execution_count": null,
   "id": "returning-massage",
   "metadata": {},
   "outputs": [],
   "source": []
  }
 ],
 "metadata": {
  "kernelspec": {
   "display_name": "Python 3",
   "language": "python",
   "name": "python3"
  },
  "language_info": {
   "codemirror_mode": {
    "name": "ipython",
    "version": 3
   },
   "file_extension": ".py",
   "mimetype": "text/x-python",
   "name": "python",
   "nbconvert_exporter": "python",
   "pygments_lexer": "ipython3",
   "version": "3.7.10"
  }
 },
 "nbformat": 4,
 "nbformat_minor": 5
}
