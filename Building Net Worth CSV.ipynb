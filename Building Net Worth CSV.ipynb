{
 "cells": [
  {
   "cell_type": "code",
   "execution_count": null,
   "id": "registered-noise",
   "metadata": {},
   "outputs": [],
   "source": []
  },
  {
   "cell_type": "code",
   "execution_count": null,
   "id": "textile-manor",
   "metadata": {},
   "outputs": [],
   "source": []
  },
  {
   "cell_type": "code",
   "execution_count": null,
   "id": "functional-recommendation",
   "metadata": {},
   "outputs": [],
   "source": [
    "import requests\n",
    "import pandas as pd\n",
    "movies_df= pd.read_csv(\"assets/Comprehensive IMDb Data.csv\")\n",
    "movies_df = movies_df.drop_duplicates(subset=['title']).dropna()\n",
    "movies_df = movies_df.drop(['knownForTitles', 'month', 'day', 'primaryName', 'titleId', 'region', 'released', 'year', 'director', 'writer', 'country', 'gross', 'company', 'category', 'nconst'], axis=1)\n",
    "\n",
    "\n",
    "for index, row in movies_df.iterrows():\n",
    "    name = row['star']\n",
    "    api_url = 'https://api.api-ninjas.com/v1/celebrity?name={}'.format(name)\n",
    "    response = requests.get(api_url, headers={'X-Api-Key': 'ENTER API KEY HERE'})\n",
    "    if response.status_code == requests.codes.ok:\n",
    "        if not response.json():\n",
    "            continue\n",
    "        movies_df.loc[index, 'star_net_worth'] = response.json()[0].get('net_worth')\n",
    "    else:\n",
    "        continue\n",
    "\n",
    "movies_df.to_csv('csv_with_actor_netWorth.csv')\n",
    "\n",
    "    "
   ]
  },
  {
   "cell_type": "code",
   "execution_count": 8,
   "id": "collected-impact",
   "metadata": {},
   "outputs": [],
   "source": [
    "movies_df.to_csv('csv_with_actor_netWorth.csv')"
   ]
  },
  {
   "cell_type": "code",
   "execution_count": null,
   "id": "placed-oakland",
   "metadata": {},
   "outputs": [],
   "source": []
  }
 ],
 "metadata": {
  "kernelspec": {
   "display_name": "Python 3",
   "language": "python",
   "name": "python3"
  },
  "language_info": {
   "codemirror_mode": {
    "name": "ipython",
    "version": 3
   },
   "file_extension": ".py",
   "mimetype": "text/x-python",
   "name": "python",
   "nbconvert_exporter": "python",
   "pygments_lexer": "ipython3",
   "version": "3.7.10"
  }
 },
 "nbformat": 4,
 "nbformat_minor": 5
}
